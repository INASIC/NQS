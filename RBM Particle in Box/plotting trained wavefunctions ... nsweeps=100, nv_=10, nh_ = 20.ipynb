{
 "cells": [
  {
   "cell_type": "code",
   "execution_count": 1,
   "metadata": {},
   "outputs": [],
   "source": [
    "import matplotlib.pyplot as plt\n",
    "import pandas as pd\n",
    "import numpy as np\n",
    "from itertools import product"
   ]
  },
  {
   "cell_type": "markdown",
   "metadata": {},
   "source": [
    "## Read in Data\n",
    "\n",
    "We begin by reading in the trained parameters for several iteration times shown in their file names."
   ]
  },
  {
   "cell_type": "code",
   "execution_count": 2,
   "metadata": {},
   "outputs": [
    {
     "ename": "ParserError",
     "evalue": "Error tokenizing data. C error: Expected 20 fields in line 10, saw 40\n",
     "output_type": "error",
     "traceback": [
      "\u001b[1;31m---------------------------------------------------------------------------\u001b[0m",
      "\u001b[1;31mParserError\u001b[0m                               Traceback (most recent call last)",
      "\u001b[1;32m<ipython-input-2-ba21dcd1676d>\u001b[0m in \u001b[0;36m<module>\u001b[1;34m()\u001b[0m\n\u001b[0;32m      2\u001b[0m \u001b[0ma_df_iter1\u001b[0m \u001b[1;33m=\u001b[0m \u001b[0mpd\u001b[0m\u001b[1;33m.\u001b[0m\u001b[0mread_csv\u001b[0m\u001b[1;33m(\u001b[0m\u001b[1;34m'./data/nsweeps=100,nv=10,nh=20/a_iter=1_eloc=1695.073718.dat'\u001b[0m\u001b[1;33m,\u001b[0m \u001b[0msep\u001b[0m\u001b[1;33m=\u001b[0m\u001b[1;34m'\\t'\u001b[0m\u001b[1;33m,\u001b[0m \u001b[0mheader\u001b[0m\u001b[1;33m=\u001b[0m\u001b[1;32mNone\u001b[0m\u001b[1;33m)\u001b[0m\u001b[1;33m\u001b[0m\u001b[0m\n\u001b[0;32m      3\u001b[0m \u001b[0mb_df_iter1\u001b[0m \u001b[1;33m=\u001b[0m \u001b[0mpd\u001b[0m\u001b[1;33m.\u001b[0m\u001b[0mread_csv\u001b[0m\u001b[1;33m(\u001b[0m\u001b[1;34m'./data/nsweeps=100,nv=10,nh=20/b_iter=1_eloc=1695.073718.dat'\u001b[0m\u001b[1;33m,\u001b[0m \u001b[0msep\u001b[0m\u001b[1;33m=\u001b[0m\u001b[1;34m'\\t'\u001b[0m\u001b[1;33m,\u001b[0m \u001b[0mheader\u001b[0m\u001b[1;33m=\u001b[0m\u001b[1;32mNone\u001b[0m\u001b[1;33m)\u001b[0m\u001b[1;33m\u001b[0m\u001b[0m\n\u001b[1;32m----> 4\u001b[1;33m \u001b[0mW_df_iter1\u001b[0m \u001b[1;33m=\u001b[0m \u001b[0mpd\u001b[0m\u001b[1;33m.\u001b[0m\u001b[0mread_csv\u001b[0m\u001b[1;33m(\u001b[0m\u001b[1;34m'./data/nsweeps=100,nv=10,nh=20/W_iter=1_eloc=1695.073718.dat'\u001b[0m\u001b[1;33m,\u001b[0m \u001b[0msep\u001b[0m\u001b[1;33m=\u001b[0m\u001b[1;34m'\\s+'\u001b[0m\u001b[1;33m,\u001b[0m \u001b[0mheader\u001b[0m\u001b[1;33m=\u001b[0m\u001b[1;32mNone\u001b[0m\u001b[1;33m)\u001b[0m\u001b[1;33m\u001b[0m\u001b[0m\n\u001b[0m\u001b[0;32m      5\u001b[0m \u001b[1;33m\u001b[0m\u001b[0m\n\u001b[0;32m      6\u001b[0m \u001b[0ma_df_iter10\u001b[0m \u001b[1;33m=\u001b[0m \u001b[0mpd\u001b[0m\u001b[1;33m.\u001b[0m\u001b[0mread_csv\u001b[0m\u001b[1;33m(\u001b[0m\u001b[1;34m'./data/nsweeps=100,nv=10,nh=20/a_iter=10_eloc=794.213381.dat'\u001b[0m\u001b[1;33m,\u001b[0m \u001b[0msep\u001b[0m\u001b[1;33m=\u001b[0m\u001b[1;34m'\\t'\u001b[0m\u001b[1;33m,\u001b[0m \u001b[0mheader\u001b[0m\u001b[1;33m=\u001b[0m\u001b[1;32mNone\u001b[0m\u001b[1;33m)\u001b[0m\u001b[1;33m\u001b[0m\u001b[0m\n",
      "\u001b[1;32mC:\\ProgramData\\Anaconda3\\lib\\site-packages\\pandas\\io\\parsers.py\u001b[0m in \u001b[0;36mparser_f\u001b[1;34m(filepath_or_buffer, sep, delimiter, header, names, index_col, usecols, squeeze, prefix, mangle_dupe_cols, dtype, engine, converters, true_values, false_values, skipinitialspace, skiprows, nrows, na_values, keep_default_na, na_filter, verbose, skip_blank_lines, parse_dates, infer_datetime_format, keep_date_col, date_parser, dayfirst, iterator, chunksize, compression, thousands, decimal, lineterminator, quotechar, quoting, escapechar, comment, encoding, dialect, tupleize_cols, error_bad_lines, warn_bad_lines, skipfooter, skip_footer, doublequote, delim_whitespace, as_recarray, compact_ints, use_unsigned, low_memory, buffer_lines, memory_map, float_precision)\u001b[0m\n\u001b[0;32m    707\u001b[0m                     skip_blank_lines=skip_blank_lines)\n\u001b[0;32m    708\u001b[0m \u001b[1;33m\u001b[0m\u001b[0m\n\u001b[1;32m--> 709\u001b[1;33m         \u001b[1;32mreturn\u001b[0m \u001b[0m_read\u001b[0m\u001b[1;33m(\u001b[0m\u001b[0mfilepath_or_buffer\u001b[0m\u001b[1;33m,\u001b[0m \u001b[0mkwds\u001b[0m\u001b[1;33m)\u001b[0m\u001b[1;33m\u001b[0m\u001b[0m\n\u001b[0m\u001b[0;32m    710\u001b[0m \u001b[1;33m\u001b[0m\u001b[0m\n\u001b[0;32m    711\u001b[0m     \u001b[0mparser_f\u001b[0m\u001b[1;33m.\u001b[0m\u001b[0m__name__\u001b[0m \u001b[1;33m=\u001b[0m \u001b[0mname\u001b[0m\u001b[1;33m\u001b[0m\u001b[0m\n",
      "\u001b[1;32mC:\\ProgramData\\Anaconda3\\lib\\site-packages\\pandas\\io\\parsers.py\u001b[0m in \u001b[0;36m_read\u001b[1;34m(filepath_or_buffer, kwds)\u001b[0m\n\u001b[0;32m    453\u001b[0m \u001b[1;33m\u001b[0m\u001b[0m\n\u001b[0;32m    454\u001b[0m     \u001b[1;32mtry\u001b[0m\u001b[1;33m:\u001b[0m\u001b[1;33m\u001b[0m\u001b[0m\n\u001b[1;32m--> 455\u001b[1;33m         \u001b[0mdata\u001b[0m \u001b[1;33m=\u001b[0m \u001b[0mparser\u001b[0m\u001b[1;33m.\u001b[0m\u001b[0mread\u001b[0m\u001b[1;33m(\u001b[0m\u001b[0mnrows\u001b[0m\u001b[1;33m)\u001b[0m\u001b[1;33m\u001b[0m\u001b[0m\n\u001b[0m\u001b[0;32m    456\u001b[0m     \u001b[1;32mfinally\u001b[0m\u001b[1;33m:\u001b[0m\u001b[1;33m\u001b[0m\u001b[0m\n\u001b[0;32m    457\u001b[0m         \u001b[0mparser\u001b[0m\u001b[1;33m.\u001b[0m\u001b[0mclose\u001b[0m\u001b[1;33m(\u001b[0m\u001b[1;33m)\u001b[0m\u001b[1;33m\u001b[0m\u001b[0m\n",
      "\u001b[1;32mC:\\ProgramData\\Anaconda3\\lib\\site-packages\\pandas\\io\\parsers.py\u001b[0m in \u001b[0;36mread\u001b[1;34m(self, nrows)\u001b[0m\n\u001b[0;32m   1067\u001b[0m                 \u001b[1;32mraise\u001b[0m \u001b[0mValueError\u001b[0m\u001b[1;33m(\u001b[0m\u001b[1;34m'skipfooter not supported for iteration'\u001b[0m\u001b[1;33m)\u001b[0m\u001b[1;33m\u001b[0m\u001b[0m\n\u001b[0;32m   1068\u001b[0m \u001b[1;33m\u001b[0m\u001b[0m\n\u001b[1;32m-> 1069\u001b[1;33m         \u001b[0mret\u001b[0m \u001b[1;33m=\u001b[0m \u001b[0mself\u001b[0m\u001b[1;33m.\u001b[0m\u001b[0m_engine\u001b[0m\u001b[1;33m.\u001b[0m\u001b[0mread\u001b[0m\u001b[1;33m(\u001b[0m\u001b[0mnrows\u001b[0m\u001b[1;33m)\u001b[0m\u001b[1;33m\u001b[0m\u001b[0m\n\u001b[0m\u001b[0;32m   1070\u001b[0m \u001b[1;33m\u001b[0m\u001b[0m\n\u001b[0;32m   1071\u001b[0m         \u001b[1;32mif\u001b[0m \u001b[0mself\u001b[0m\u001b[1;33m.\u001b[0m\u001b[0moptions\u001b[0m\u001b[1;33m.\u001b[0m\u001b[0mget\u001b[0m\u001b[1;33m(\u001b[0m\u001b[1;34m'as_recarray'\u001b[0m\u001b[1;33m)\u001b[0m\u001b[1;33m:\u001b[0m\u001b[1;33m\u001b[0m\u001b[0m\n",
      "\u001b[1;32mC:\\ProgramData\\Anaconda3\\lib\\site-packages\\pandas\\io\\parsers.py\u001b[0m in \u001b[0;36mread\u001b[1;34m(self, nrows)\u001b[0m\n\u001b[0;32m   1837\u001b[0m     \u001b[1;32mdef\u001b[0m \u001b[0mread\u001b[0m\u001b[1;33m(\u001b[0m\u001b[0mself\u001b[0m\u001b[1;33m,\u001b[0m \u001b[0mnrows\u001b[0m\u001b[1;33m=\u001b[0m\u001b[1;32mNone\u001b[0m\u001b[1;33m)\u001b[0m\u001b[1;33m:\u001b[0m\u001b[1;33m\u001b[0m\u001b[0m\n\u001b[0;32m   1838\u001b[0m         \u001b[1;32mtry\u001b[0m\u001b[1;33m:\u001b[0m\u001b[1;33m\u001b[0m\u001b[0m\n\u001b[1;32m-> 1839\u001b[1;33m             \u001b[0mdata\u001b[0m \u001b[1;33m=\u001b[0m \u001b[0mself\u001b[0m\u001b[1;33m.\u001b[0m\u001b[0m_reader\u001b[0m\u001b[1;33m.\u001b[0m\u001b[0mread\u001b[0m\u001b[1;33m(\u001b[0m\u001b[0mnrows\u001b[0m\u001b[1;33m)\u001b[0m\u001b[1;33m\u001b[0m\u001b[0m\n\u001b[0m\u001b[0;32m   1840\u001b[0m         \u001b[1;32mexcept\u001b[0m \u001b[0mStopIteration\u001b[0m\u001b[1;33m:\u001b[0m\u001b[1;33m\u001b[0m\u001b[0m\n\u001b[0;32m   1841\u001b[0m             \u001b[1;32mif\u001b[0m \u001b[0mself\u001b[0m\u001b[1;33m.\u001b[0m\u001b[0m_first_chunk\u001b[0m\u001b[1;33m:\u001b[0m\u001b[1;33m\u001b[0m\u001b[0m\n",
      "\u001b[1;32mpandas/_libs/parsers.pyx\u001b[0m in \u001b[0;36mpandas._libs.parsers.TextReader.read\u001b[1;34m()\u001b[0m\n",
      "\u001b[1;32mpandas/_libs/parsers.pyx\u001b[0m in \u001b[0;36mpandas._libs.parsers.TextReader._read_low_memory\u001b[1;34m()\u001b[0m\n",
      "\u001b[1;32mpandas/_libs/parsers.pyx\u001b[0m in \u001b[0;36mpandas._libs.parsers.TextReader._read_rows\u001b[1;34m()\u001b[0m\n",
      "\u001b[1;32mpandas/_libs/parsers.pyx\u001b[0m in \u001b[0;36mpandas._libs.parsers.TextReader._tokenize_rows\u001b[1;34m()\u001b[0m\n",
      "\u001b[1;32mpandas/_libs/parsers.pyx\u001b[0m in \u001b[0;36mpandas._libs.parsers.raise_parser_error\u001b[1;34m()\u001b[0m\n",
      "\u001b[1;31mParserError\u001b[0m: Error tokenizing data. C error: Expected 20 fields in line 10, saw 40\n"
     ]
    }
   ],
   "source": [
    "# Read the rest of the data\n",
    "a_df_iter1 = pd.read_csv('./data/nsweeps=100,nv=10,nh=20/a_iter=1_eloc=1695.073718.dat', sep='\\t', header=None)\n",
    "b_df_iter1 = pd.read_csv('./data/nsweeps=100,nv=10,nh=20/b_iter=1_eloc=1695.073718.dat', sep='\\t', header=None)\n",
    "W_df_iter1 = pd.read_csv('./data/nsweeps=100,nv=10,nh=20/W_iter=1_eloc=1695.073718.dat', sep='\\s+', header=None)\n",
    "\n",
    "a_df_iter10 = pd.read_csv('./data/nsweeps=100,nv=10,nh=20/a_iter=10_eloc=794.213381.dat', sep='\\t', header=None)\n",
    "b_df_iter10 = pd.read_csv('./data/nsweeps=100,nv=10,nh=20/b_iter=10_eloc=794.213381.dat', sep='\\t', header=None)\n",
    "W_df_iter10 = pd.read_csv('./data/nsweeps=100,nv=10,nh=20/W_iter=10_eloc=794.213381.dat', sep='\\s+', header=None)\n",
    "\n",
    "a_df_iter100 = pd.read_csv('./data/nsweeps=100,nv=10,nh=20/a_iter=100_eloc=-34.761474.dat', sep='\\t', header=None)\n",
    "b_df_iter100 = pd.read_csv('./data/nsweeps=100,nv=10,nh=20/b_iter=100_eloc=-34.761474.dat', sep='\\t', header=None)\n",
    "W_df_iter100 = pd.read_csv('./data/nsweeps=100,nv=10,nh=20/W_iter=100_eloc=-34.761474.dat', sep='\\s+', header=None)\n",
    "\n",
    "a_df_iter1000 = pd.read_csv('./data/nsweeps=100,nv=10,nh=20/a_iter=1000_eloc=-144.804402.dat', sep='\\t', header=None)\n",
    "b_df_iter1000 = pd.read_csv('./data/nsweeps=100,nv=10,nh=20/b_iter=1000_eloc=-144.804402.dat', sep='\\t', header=None)\n",
    "W_df_iter1000 = pd.read_csv('./data/nsweeps=100,nv=10,nh=20/W_iter=1000_eloc=-144.804402.dat', sep='\\s+', header=None)\n",
    "\n",
    "a_df_iter10000 = pd.read_csv('./data/nsweeps=100,nv=10,nh=20/a_iter=10000_eloc=-145.317434.dat', sep='\\t', header=None)\n",
    "b_df_iter10000 = pd.read_csv('./data/nsweeps=100,nv=10,nh=20/b_iter=10000_eloc=-145.317434.dat', sep='\\t', header=None)\n",
    "W_df_iter10000 = pd.read_csv('./data/nsweeps=100,nv=10,nh=20/W_iter=10000_eloc=-145.317434.dat', sep='\\s+', header=None)\n",
    "\n",
    "a_df_iter15000 = pd.read_csv('./data/nsweeps=100,nv=10,nh=20/a_iter=15000_eloc=-145.318291.dat', sep='\\t', header=None)\n",
    "b_df_iter15000 = pd.read_csv('./data/nsweeps=100,nv=10,nh=20/b_iter=15000_eloc=-145.318291.dat', sep='\\t', header=None)\n",
    "W_df_iter15000 = pd.read_csv('./data/nsweeps=100,nv=10,nh=20/W_iter=15000_eloc=-145.318291.dat', sep='\\s+', header=None)\n",
    "\n",
    "a_df_iter20000 = pd.read_csv('./data/nsweeps=100,nv=10,nh=20/a_iter=20000_eloc=-145.318752.dat', sep='\\t', header=None)\n",
    "b_df_iter20000 = pd.read_csv('./data/nsweeps=100,nv=10,nh=20/b_iter=20000_eloc=-145.318752.dat', sep='\\t', header=None)\n",
    "W_df_iter20000 = pd.read_csv('./data/nsweeps=100,nv=10,nh=20/W_iter=20000_eloc=-145.318752.dat', sep='\\s+', header=None)"
   ]
  },
  {
   "cell_type": "code",
   "execution_count": null,
   "metadata": {},
   "outputs": [],
   "source": [
    "# Put the dataframes into lists of lists\n",
    "list_params_iter1 = [a_df_iter1, b_df_iter1, W_df_iter1]\n",
    "list_params_iter10 = [a_df_iter10, b_df_iter10, W_df_iter10]\n",
    "list_params_iter100 = [a_df_iter100, b_df_iter100, W_df_iter100]\n",
    "list_params_iter1000 = [a_df_iter1000, b_df_iter1000, W_df_iter1000]\n",
    "list_params_iter10000 = [a_df_iter10000, b_df_iter10000, W_df_iter10000]\n",
    "list_params_iter15000 = [a_df_iter15000, b_df_iter15000, W_df_iter15000]\n",
    "list_params_iter20000 = [a_df_iter20000, b_df_iter20000, W_df_iter20000]\n",
    "\n",
    "list_list_params = [list_params_iter1, list_params_iter10, list_params_iter100, list_params_iter1000, list_params_iter10000, list_params_iter15000, list_params_iter20000]"
   ]
  },
  {
   "cell_type": "markdown",
   "metadata": {},
   "source": [
    "# Compare all Wavefunctions"
   ]
  },
  {
   "cell_type": "markdown",
   "metadata": {},
   "source": [
    "Here we use the parameters that were read in to evaluate the PDF of the RBM (at each value of x) - and then square root it to plot $\\psi$."
   ]
  },
  {
   "cell_type": "code",
   "execution_count": null,
   "metadata": {},
   "outputs": [],
   "source": [
    "list_data_names = ['iter=1', 'iter=10', 'iter=100', 'iter=1000', 'iter=10,000', 'iter=15000', 'iter=20,000'] \n",
    "counter = 0\n",
    "\n",
    "# Loop over each dataset\n",
    "for list_list in list_list_params:\n",
    "    a = np.array(list_list[0])\n",
    "    b = np.array(list_list[1])\n",
    "    W = np.array(list_list[2])\n",
    "\n",
    "    a = np.flip(a,0)  # We defined our bytes in reverse order, flip them so it is consistent\n",
    "    W = np.flip(W,0)\n",
    "\n",
    "    # Create bytes representing meshpoint location, i\n",
    "    sigma = np.zeros((1024,10)) \n",
    "    ind = 0\n",
    "    for i in product([0,1], repeat=10):\n",
    "        sigma[ind,:] = i\n",
    "        ind+=1\n",
    "    sigma = np.flip(sigma,1)  # Flip them for consistency\n",
    "\n",
    "    x = np.arange(-10+120/1024, 110+120/1024, 120/1024)\n",
    "\n",
    "    # Evaluate PDF, prob, using parameters of the RBM\n",
    "    prob = np.zeros(1024)\n",
    "    for n in range(1024):\n",
    "        firstsum = np.dot(sigma[n,:],a)\n",
    "        productsum = 1\n",
    "        for j in range(len(b)):\n",
    "            productsum *= 2*np.cosh(np.dot(W[:,j],sigma[n,:])+ b[j])\n",
    "        prob[n]= np.exp(firstsum) * productsum        \n",
    "\n",
    "    # Convert PDF into wavefn., plot it\n",
    "    plt.plot(x, np.sqrt(prob))\n",
    "    plt.title(list_data_names[counter])\n",
    "    counter += 1\n",
    "    plt.ylabel('$\\Psi$')\n",
    "    plt.xlabel('x')\n",
    "    plt.axvline(x=0, c='k', label='potential barrier')\n",
    "    plt.axvline(x=100, c='k')\n",
    "    plt.legend(loc=4)\n",
    "#     plt.ylim(0,10000)\n",
    "    plt.show()"
   ]
  },
  {
   "cell_type": "code",
   "execution_count": null,
   "metadata": {},
   "outputs": [],
   "source": [
    "iter_energy = pd.read_csv('./data/nsweeps=100,nv=10,nh=20/iter_elocmean.dat', sep=';', header=None)"
   ]
  },
  {
   "cell_type": "code",
   "execution_count": null,
   "metadata": {},
   "outputs": [],
   "source": [
    "iter_energy[0].shape"
   ]
  },
  {
   "cell_type": "code",
   "execution_count": null,
   "metadata": {},
   "outputs": [],
   "source": [
    "plt.plot(iter_energy[0], iter_energy[1])\n",
    "plt.ylim(-150, 500)\n",
    "plt.ylabel('Energy')\n",
    "plt.xlabel('Iteration')\n",
    "plt.show()"
   ]
  },
  {
   "cell_type": "code",
   "execution_count": null,
   "metadata": {},
   "outputs": [],
   "source": []
  }
 ],
 "metadata": {
  "kernelspec": {
   "display_name": "Python 3",
   "language": "python",
   "name": "python3"
  },
  "language_info": {
   "codemirror_mode": {
    "name": "ipython",
    "version": 3
   },
   "file_extension": ".py",
   "mimetype": "text/x-python",
   "name": "python",
   "nbconvert_exporter": "python",
   "pygments_lexer": "ipython3",
   "version": "3.6.4"
  }
 },
 "nbformat": 4,
 "nbformat_minor": 2
}
