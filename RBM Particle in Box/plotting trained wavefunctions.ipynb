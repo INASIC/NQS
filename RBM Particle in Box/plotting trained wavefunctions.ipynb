{
 "cells": [
  {
   "cell_type": "code",
   "execution_count": 94,
   "metadata": {
    "collapsed": true
   },
   "outputs": [],
   "source": [
    "import matplotlib.pyplot as plt\n",
    "import pandas as pd\n",
    "import numpy as np"
   ]
  },
  {
   "cell_type": "code",
   "execution_count": 95,
   "metadata": {
    "collapsed": true
   },
   "outputs": [],
   "source": [
    "a=[\n",
    "-0.211462,\n",
    "-0.218026,\n",
    "-0.287148,\n",
    "-0.214511,\n",
    "-0.253088,\n",
    "-0.205865,\n",
    "-0.279914,\n",
    "-1.15197,\n",
    "-1.27362,\n",
    "1.91344,\n",
    "]"
   ]
  },
  {
   "cell_type": "code",
   "execution_count": 96,
   "metadata": {
    "collapsed": false
   },
   "outputs": [
    {
     "data": {
      "text/plain": [
       "array([ 1.91344 , -1.27362 , -1.15197 , -0.279914, -0.205865, -0.253088,\n",
       "       -0.214511, -0.287148, -0.218026, -0.211462])"
      ]
     },
     "execution_count": 96,
     "metadata": {},
     "output_type": "execute_result"
    }
   ],
   "source": [
    "a = np.array(a)\n",
    "a = np.flip(a,0)\n",
    "a"
   ]
  },
  {
   "cell_type": "code",
   "execution_count": 97,
   "metadata": {
    "collapsed": false
   },
   "outputs": [],
   "source": [
    "b = [\n",
    "0.384378,\n",
    "0.387399,\n",
    "0.373781,\n",
    "0.399796,\n",
    "0.418405,\n",
    "0.394606,\n",
    "0.411747,\n",
    "0.401978,\n",
    "0.389486,\n",
    "0.406784,\n",
    "]"
   ]
  },
  {
   "cell_type": "code",
   "execution_count": 98,
   "metadata": {
    "collapsed": false
   },
   "outputs": [
    {
     "data": {
      "text/plain": [
       "array([ 0.384378,  0.387399,  0.373781,  0.399796,  0.418405,  0.394606,\n",
       "        0.411747,  0.401978,  0.389486,  0.406784])"
      ]
     },
     "execution_count": 98,
     "metadata": {},
     "output_type": "execute_result"
    }
   ],
   "source": [
    "b = np.array(b)\n",
    "b"
   ]
  },
  {
   "cell_type": "code",
   "execution_count": 99,
   "metadata": {
    "collapsed": false
   },
   "outputs": [],
   "source": [
    "W = [\n",
    "0.0466012,\n",
    "0.0377465,\n",
    "0.0204193,\n",
    "0.00822383, \n",
    "0.0162436,\n",
    "0.0293437,\n",
    "0.0272021,  \n",
    "0.0240795,\n",
    "0.0167182,\n",
    "0.0203846,\n",
    "0.0261156,\n",
    "0.0284983,\n",
    "0.0148493,\n",
    "0.0371249,\n",
    "0.0448593,\n",
    "0.00822058,\n",
    "0.0391975,\n",
    "0.0175433,\n",
    "0.0172566,\n",
    "0.0238009,\n",
    "0.0146335,\n",
    "0.0114662,\n",
    "0.0389499,\n",
    "0.0467663,\n",
    "0.0266842,\n",
    "0.0351467,\n",
    "0.0278339,\n",
    "0.049127,\n",
    "0.0372691,\n",
    "0.0409566,\n",
    "0.0291037,\n",
    "0.0179535,\n",
    "0.0391517,\n",
    "0.0196762,\n",
    "0.0435818,\n",
    "0.0369135,\n",
    "0.036128,\n",
    "0.0230913,\n",
    "0.0378331,\n",
    "0.0386971,\n",
    "0.0317869,\n",
    "0.0323384,\n",
    "0.0199003,\n",
    "0.0345085,\n",
    "0.0303276,\n",
    "0.0295048,\n",
    "0.017865,\n",
    "0.0215115,\n",
    "0.0200414,\n",
    "0.0264188,\n",
    "0.0352005,\n",
    "0.0588293,\n",
    "0.0405227,\n",
    "0.0223258,\n",
    "0.0350672,\n",
    "0.0515795,\n",
    "0.0216099,\n",
    "0.0433567,\n",
    "0.0448669,\n",
    "0.0363929,\n",
    "0.0157915,\n",
    "0.0204458,\n",
    "0.0282465,\n",
    "0.0330482,\n",
    "0.030628,\n",
    "0.016217,\n",
    "0.0129328,\n",
    "0.0253413,\n",
    "0.0294885,\n",
    "0.00523952,\n",
    "-0.57666,\n",
    "-0.596617,\n",
    "-0.58512,\n",
    "-0.588362,\n",
    "-0.59254,\n",
    "-0.589999,\n",
    "-0.575032,\n",
    "-0.595691,\n",
    "-0.563867,\n",
    "-0.577063,\n",
    "-0.673538,\n",
    "-0.670591,\n",
    "-0.662453,\n",
    "-0.681282,\n",
    "-0.707265,\n",
    "-0.68589,\n",
    "-0.676108,\n",
    "-0.680358,\n",
    "-0.689795,\n",
    "-0.678755,\n",
    "1.39331,\n",
    "1.41083,\n",
    "1.37912,\n",
    "1.41538,\n",
    "1.44744,\n",
    "1.42861,\n",
    "1.39333,\n",
    "1.43406,\n",
    "1.39509,\n",
    "1.40446]"
   ]
  },
  {
   "cell_type": "code",
   "execution_count": 100,
   "metadata": {
    "collapsed": false
   },
   "outputs": [
    {
     "data": {
      "text/plain": [
       "100"
      ]
     },
     "execution_count": 100,
     "metadata": {},
     "output_type": "execute_result"
    }
   ],
   "source": [
    "len(W)"
   ]
  },
  {
   "cell_type": "code",
   "execution_count": 101,
   "metadata": {
    "collapsed": true
   },
   "outputs": [],
   "source": [
    "W = np.array(W)"
   ]
  },
  {
   "cell_type": "code",
   "execution_count": 102,
   "metadata": {
    "collapsed": false
   },
   "outputs": [
    {
     "data": {
      "text/plain": [
       "array([ 0.0466012 ,  0.0377465 ,  0.0204193 ,  0.00822383,  0.0162436 ,\n",
       "        0.0293437 ,  0.0272021 ,  0.0240795 ,  0.0167182 ,  0.0203846 ,\n",
       "        0.0261156 ,  0.0284983 ,  0.0148493 ,  0.0371249 ,  0.0448593 ,\n",
       "        0.00822058,  0.0391975 ,  0.0175433 ,  0.0172566 ,  0.0238009 ,\n",
       "        0.0146335 ,  0.0114662 ,  0.0389499 ,  0.0467663 ,  0.0266842 ,\n",
       "        0.0351467 ,  0.0278339 ,  0.049127  ,  0.0372691 ,  0.0409566 ,\n",
       "        0.0291037 ,  0.0179535 ,  0.0391517 ,  0.0196762 ,  0.0435818 ,\n",
       "        0.0369135 ,  0.036128  ,  0.0230913 ,  0.0378331 ,  0.0386971 ,\n",
       "        0.0317869 ,  0.0323384 ,  0.0199003 ,  0.0345085 ,  0.0303276 ,\n",
       "        0.0295048 ,  0.017865  ,  0.0215115 ,  0.0200414 ,  0.0264188 ,\n",
       "        0.0352005 ,  0.0588293 ,  0.0405227 ,  0.0223258 ,  0.0350672 ,\n",
       "        0.0515795 ,  0.0216099 ,  0.0433567 ,  0.0448669 ,  0.0363929 ,\n",
       "        0.0157915 ,  0.0204458 ,  0.0282465 ,  0.0330482 ,  0.030628  ,\n",
       "        0.016217  ,  0.0129328 ,  0.0253413 ,  0.0294885 ,  0.00523952,\n",
       "       -0.57666   , -0.596617  , -0.58512   , -0.588362  , -0.59254   ,\n",
       "       -0.589999  , -0.575032  , -0.595691  , -0.563867  , -0.577063  ,\n",
       "       -0.673538  , -0.670591  , -0.662453  , -0.681282  , -0.707265  ,\n",
       "       -0.68589   , -0.676108  , -0.680358  , -0.689795  , -0.678755  ,\n",
       "        1.39331   ,  1.41083   ,  1.37912   ,  1.41538   ,  1.44744   ,\n",
       "        1.42861   ,  1.39333   ,  1.43406   ,  1.39509   ,  1.40446   ])"
      ]
     },
     "execution_count": 102,
     "metadata": {},
     "output_type": "execute_result"
    }
   ],
   "source": [
    "W"
   ]
  },
  {
   "cell_type": "code",
   "execution_count": 103,
   "metadata": {
    "collapsed": true
   },
   "outputs": [],
   "source": [
    "W = W.reshape(10,10)"
   ]
  },
  {
   "cell_type": "code",
   "execution_count": 104,
   "metadata": {
    "collapsed": false
   },
   "outputs": [
    {
     "data": {
      "text/plain": [
       "(10, 10)"
      ]
     },
     "execution_count": 104,
     "metadata": {},
     "output_type": "execute_result"
    }
   ],
   "source": [
    "W.shape"
   ]
  },
  {
   "cell_type": "code",
   "execution_count": 105,
   "metadata": {
    "collapsed": false
   },
   "outputs": [],
   "source": [
    "W = np.flip(W,0)"
   ]
  },
  {
   "cell_type": "code",
   "execution_count": 106,
   "metadata": {
    "collapsed": true
   },
   "outputs": [],
   "source": [
    "from itertools import product"
   ]
  },
  {
   "cell_type": "code",
   "execution_count": 107,
   "metadata": {
    "collapsed": false
   },
   "outputs": [],
   "source": [
    "sigma = np.zeros((1024,10))"
   ]
  },
  {
   "cell_type": "code",
   "execution_count": 108,
   "metadata": {
    "collapsed": false
   },
   "outputs": [
    {
     "data": {
      "text/plain": [
       "'1.13.1'"
      ]
     },
     "execution_count": 108,
     "metadata": {},
     "output_type": "execute_result"
    }
   ],
   "source": [
    "import numpy\n",
    "numpy.version.version"
   ]
  },
  {
   "cell_type": "code",
   "execution_count": 109,
   "metadata": {
    "collapsed": true
   },
   "outputs": [],
   "source": [
    "ind = 0\n",
    "for i in product([0,1], repeat=10):\n",
    "    sigma[ind,:] =i\n",
    "    ind+=1"
   ]
  },
  {
   "cell_type": "code",
   "execution_count": 110,
   "metadata": {
    "collapsed": false
   },
   "outputs": [],
   "source": [
    "sigma = np.flip(sigma,1)"
   ]
  },
  {
   "cell_type": "code",
   "execution_count": 111,
   "metadata": {
    "collapsed": false
   },
   "outputs": [
    {
     "data": {
      "text/plain": [
       "array([[ 0.,  0.,  0., ...,  0.,  0.,  0.],\n",
       "       [ 1.,  0.,  0., ...,  0.,  0.,  0.],\n",
       "       [ 0.,  1.,  0., ...,  0.,  0.,  0.],\n",
       "       ..., \n",
       "       [ 1.,  0.,  1., ...,  1.,  1.,  1.],\n",
       "       [ 0.,  1.,  1., ...,  1.,  1.,  1.],\n",
       "       [ 1.,  1.,  1., ...,  1.,  1.,  1.]])"
      ]
     },
     "execution_count": 111,
     "metadata": {},
     "output_type": "execute_result"
    }
   ],
   "source": [
    "sigma"
   ]
  },
  {
   "cell_type": "code",
   "execution_count": 112,
   "metadata": {
    "collapsed": false
   },
   "outputs": [
    {
     "data": {
      "text/plain": [
       "array([  -9.8828125,   -9.765625 ,   -9.6484375, ...,  109.765625 ,\n",
       "        109.8828125,  110.       ])"
      ]
     },
     "execution_count": 112,
     "metadata": {},
     "output_type": "execute_result"
    }
   ],
   "source": [
    "x = np.arange(-10+120/1024,110+120/1024, 120/1024)\n",
    "x"
   ]
  },
  {
   "cell_type": "code",
   "execution_count": 113,
   "metadata": {
    "collapsed": true
   },
   "outputs": [],
   "source": [
    "prob = np.zeros(1024)"
   ]
  },
  {
   "cell_type": "code",
   "execution_count": 114,
   "metadata": {
    "collapsed": false
   },
   "outputs": [],
   "source": [
    "for n in range(1024):\n",
    "    firstsum = np.dot(sigma[n,:],a)\n",
    "    productsum = 1\n",
    "    for j in range(10):\n",
    "        productsum *= 2*np.cosh(np.dot(W[:,j],sigma[n,:])+ b[j])\n",
    "    prob[n]= np.exp(firstsum) * productsum\n",
    "        "
   ]
  },
  {
   "cell_type": "code",
   "execution_count": 115,
   "metadata": {
    "collapsed": false
   },
   "outputs": [
    {
     "data": {
      "text/plain": [
       "array([  2.20777037e+03,   6.22817002e+08,   4.26505400e+02, ...,\n",
       "         1.09908013e+06,   1.34592873e+02,   1.48258557e+03])"
      ]
     },
     "execution_count": 115,
     "metadata": {},
     "output_type": "execute_result"
    }
   ],
   "source": [
    "prob"
   ]
  },
  {
   "cell_type": "code",
   "execution_count": 116,
   "metadata": {
    "collapsed": false
   },
   "outputs": [
    {
     "data": {
      "image/png": "[encoded data removed]",
      "text/plain": [
       "<matplotlib.figure.Figure at 0x258a92e9e48>"
      ]
     },
     "metadata": {},
     "output_type": "display_data"
    }
   ],
   "source": [
    "plt.plot(x,np.sqrt(prob))\n",
    "plt.title('Coverged RBM Wavefunction')\n",
    "plt.ylabel('$\\Psi$')\n",
    "plt.xlabel('x')\n",
    "plt.axvline(x=0, c='k', label='potential barrier')\n",
    "plt.axvline(x=100, c='k')\n",
    "plt.legend(loc=4)\n",
    "plt.show()"
   ]
  },
  {
   "cell_type": "code",
   "execution_count": 117,
   "metadata": {
    "collapsed": false
   },
   "outputs": [
    {
     "data": {
      "text/plain": [
       "array([  2.20777037e+03,   6.22817002e+08,   4.26505400e+02, ...,\n",
       "         1.09908013e+06,   1.34592873e+02,   1.48258557e+03])"
      ]
     },
     "execution_count": 117,
     "metadata": {},
     "output_type": "execute_result"
    }
   ],
   "source": [
    "prob"
   ]
  },
  {
   "cell_type": "markdown",
   "metadata": {
    "collapsed": true
   },
   "source": [
    "## Plotting Energy vs. Iteration"
   ]
  },
  {
   "cell_type": "code",
   "execution_count": 118,
   "metadata": {
    "collapsed": false
   },
   "outputs": [
    {
     "name": "stderr",
     "output_type": "stream",
     "text": [
      "C:\\ProgramData\\Anaconda3\\lib\\site-packages\\ipykernel\\__main__.py:1: ParserWarning: Falling back to the 'python' engine because the 'c' engine does not support regex separators (separators > 1 char and different from '\\s+' are interpreted as regex); you can avoid this warning by specifying engine='python'.\n",
      "  if __name__ == '__main__':\n"
     ]
    },
    {
     "data": {
      "text/html": [
       "<div>\n",
       "<table border=\"1\" class=\"dataframe\">\n",
       "  <thead>\n",
       "    <tr style=\"text-align: right;\">\n",
       "      <th></th>\n",
       "      <th>0</th>\n",
       "      <th>1</th>\n",
       "    </tr>\n",
       "  </thead>\n",
       "  <tbody>\n",
       "    <tr>\n",
       "      <th>0</th>\n",
       "      <td>0</td>\n",
       "      <td>1200.760000</td>\n",
       "    </tr>\n",
       "    <tr>\n",
       "      <th>1</th>\n",
       "      <td>1</td>\n",
       "      <td>1600.490000</td>\n",
       "    </tr>\n",
       "    <tr>\n",
       "      <th>2</th>\n",
       "      <td>2</td>\n",
       "      <td>1202.120000</td>\n",
       "    </tr>\n",
       "    <tr>\n",
       "      <th>3</th>\n",
       "      <td>3</td>\n",
       "      <td>2202.260000</td>\n",
       "    </tr>\n",
       "    <tr>\n",
       "      <th>4</th>\n",
       "      <td>4</td>\n",
       "      <td>2500.140000</td>\n",
       "    </tr>\n",
       "    <tr>\n",
       "      <th>5</th>\n",
       "      <td>5</td>\n",
       "      <td>1299.500000</td>\n",
       "    </tr>\n",
       "    <tr>\n",
       "      <th>6</th>\n",
       "      <td>6</td>\n",
       "      <td>1803.640000</td>\n",
       "    </tr>\n",
       "    <tr>\n",
       "      <th>7</th>\n",
       "      <td>7</td>\n",
       "      <td>2100.080000</td>\n",
       "    </tr>\n",
       "    <tr>\n",
       "      <th>8</th>\n",
       "      <td>8</td>\n",
       "      <td>1202.000000</td>\n",
       "    </tr>\n",
       "    <tr>\n",
       "      <th>9</th>\n",
       "      <td>9</td>\n",
       "      <td>1097.400000</td>\n",
       "    </tr>\n",
       "    <tr>\n",
       "      <th>10</th>\n",
       "      <td>10</td>\n",
       "      <td>1601.720000</td>\n",
       "    </tr>\n",
       "    <tr>\n",
       "      <th>11</th>\n",
       "      <td>11</td>\n",
       "      <td>1503.810000</td>\n",
       "    </tr>\n",
       "    <tr>\n",
       "      <th>12</th>\n",
       "      <td>12</td>\n",
       "      <td>704.137000</td>\n",
       "    </tr>\n",
       "    <tr>\n",
       "      <th>13</th>\n",
       "      <td>13</td>\n",
       "      <td>1002.080000</td>\n",
       "    </tr>\n",
       "    <tr>\n",
       "      <th>14</th>\n",
       "      <td>14</td>\n",
       "      <td>900.168000</td>\n",
       "    </tr>\n",
       "    <tr>\n",
       "      <th>15</th>\n",
       "      <td>15</td>\n",
       "      <td>505.515000</td>\n",
       "    </tr>\n",
       "    <tr>\n",
       "      <th>16</th>\n",
       "      <td>16</td>\n",
       "      <td>402.963000</td>\n",
       "    </tr>\n",
       "    <tr>\n",
       "      <th>17</th>\n",
       "      <td>17</td>\n",
       "      <td>406.869000</td>\n",
       "    </tr>\n",
       "    <tr>\n",
       "      <th>18</th>\n",
       "      <td>18</td>\n",
       "      <td>404.444000</td>\n",
       "    </tr>\n",
       "    <tr>\n",
       "      <th>19</th>\n",
       "      <td>19</td>\n",
       "      <td>407.026000</td>\n",
       "    </tr>\n",
       "    <tr>\n",
       "      <th>20</th>\n",
       "      <td>20</td>\n",
       "      <td>203.921000</td>\n",
       "    </tr>\n",
       "    <tr>\n",
       "      <th>21</th>\n",
       "      <td>21</td>\n",
       "      <td>305.395000</td>\n",
       "    </tr>\n",
       "    <tr>\n",
       "      <th>22</th>\n",
       "      <td>22</td>\n",
       "      <td>405.512000</td>\n",
       "    </tr>\n",
       "    <tr>\n",
       "      <th>23</th>\n",
       "      <td>23</td>\n",
       "      <td>112.269000</td>\n",
       "    </tr>\n",
       "    <tr>\n",
       "      <th>24</th>\n",
       "      <td>24</td>\n",
       "      <td>207.512000</td>\n",
       "    </tr>\n",
       "    <tr>\n",
       "      <th>25</th>\n",
       "      <td>25</td>\n",
       "      <td>302.082000</td>\n",
       "    </tr>\n",
       "    <tr>\n",
       "      <th>26</th>\n",
       "      <td>26</td>\n",
       "      <td>5.900620</td>\n",
       "    </tr>\n",
       "    <tr>\n",
       "      <th>27</th>\n",
       "      <td>27</td>\n",
       "      <td>402.437000</td>\n",
       "    </tr>\n",
       "    <tr>\n",
       "      <th>28</th>\n",
       "      <td>28</td>\n",
       "      <td>306.010000</td>\n",
       "    </tr>\n",
       "    <tr>\n",
       "      <th>29</th>\n",
       "      <td>29</td>\n",
       "      <td>110.636000</td>\n",
       "    </tr>\n",
       "    <tr>\n",
       "      <th>...</th>\n",
       "      <td>...</td>\n",
       "      <td>...</td>\n",
       "    </tr>\n",
       "    <tr>\n",
       "      <th>3989</th>\n",
       "      <td>3989</td>\n",
       "      <td>-0.148877</td>\n",
       "    </tr>\n",
       "    <tr>\n",
       "      <th>3990</th>\n",
       "      <td>3990</td>\n",
       "      <td>0.535856</td>\n",
       "    </tr>\n",
       "    <tr>\n",
       "      <th>3991</th>\n",
       "      <td>3991</td>\n",
       "      <td>1.312390</td>\n",
       "    </tr>\n",
       "    <tr>\n",
       "      <th>3992</th>\n",
       "      <td>3992</td>\n",
       "      <td>0.126319</td>\n",
       "    </tr>\n",
       "    <tr>\n",
       "      <th>3993</th>\n",
       "      <td>3993</td>\n",
       "      <td>2.137120</td>\n",
       "    </tr>\n",
       "    <tr>\n",
       "      <th>3994</th>\n",
       "      <td>3994</td>\n",
       "      <td>0.919365</td>\n",
       "    </tr>\n",
       "    <tr>\n",
       "      <th>3995</th>\n",
       "      <td>3995</td>\n",
       "      <td>0.616217</td>\n",
       "    </tr>\n",
       "    <tr>\n",
       "      <th>3996</th>\n",
       "      <td>3996</td>\n",
       "      <td>0.434923</td>\n",
       "    </tr>\n",
       "    <tr>\n",
       "      <th>3997</th>\n",
       "      <td>3997</td>\n",
       "      <td>-0.190148</td>\n",
       "    </tr>\n",
       "    <tr>\n",
       "      <th>3998</th>\n",
       "      <td>3998</td>\n",
       "      <td>2.617680</td>\n",
       "    </tr>\n",
       "    <tr>\n",
       "      <th>3999</th>\n",
       "      <td>3999</td>\n",
       "      <td>1.859680</td>\n",
       "    </tr>\n",
       "    <tr>\n",
       "      <th>4000</th>\n",
       "      <td>4000</td>\n",
       "      <td>-0.064929</td>\n",
       "    </tr>\n",
       "    <tr>\n",
       "      <th>4001</th>\n",
       "      <td>4001</td>\n",
       "      <td>0.484415</td>\n",
       "    </tr>\n",
       "    <tr>\n",
       "      <th>4002</th>\n",
       "      <td>4002</td>\n",
       "      <td>-0.061798</td>\n",
       "    </tr>\n",
       "    <tr>\n",
       "      <th>4003</th>\n",
       "      <td>4003</td>\n",
       "      <td>0.170065</td>\n",
       "    </tr>\n",
       "    <tr>\n",
       "      <th>4004</th>\n",
       "      <td>4004</td>\n",
       "      <td>1.347620</td>\n",
       "    </tr>\n",
       "    <tr>\n",
       "      <th>4005</th>\n",
       "      <td>4005</td>\n",
       "      <td>2.659770</td>\n",
       "    </tr>\n",
       "    <tr>\n",
       "      <th>4006</th>\n",
       "      <td>4006</td>\n",
       "      <td>0.606209</td>\n",
       "    </tr>\n",
       "    <tr>\n",
       "      <th>4007</th>\n",
       "      <td>4007</td>\n",
       "      <td>0.347532</td>\n",
       "    </tr>\n",
       "    <tr>\n",
       "      <th>4008</th>\n",
       "      <td>4008</td>\n",
       "      <td>0.544533</td>\n",
       "    </tr>\n",
       "    <tr>\n",
       "      <th>4009</th>\n",
       "      <td>4009</td>\n",
       "      <td>0.783969</td>\n",
       "    </tr>\n",
       "    <tr>\n",
       "      <th>4010</th>\n",
       "      <td>4010</td>\n",
       "      <td>-0.121138</td>\n",
       "    </tr>\n",
       "    <tr>\n",
       "      <th>4011</th>\n",
       "      <td>4011</td>\n",
       "      <td>0.013912</td>\n",
       "    </tr>\n",
       "    <tr>\n",
       "      <th>4012</th>\n",
       "      <td>4012</td>\n",
       "      <td>0.776570</td>\n",
       "    </tr>\n",
       "    <tr>\n",
       "      <th>4013</th>\n",
       "      <td>4013</td>\n",
       "      <td>0.745445</td>\n",
       "    </tr>\n",
       "    <tr>\n",
       "      <th>4014</th>\n",
       "      <td>4014</td>\n",
       "      <td>1.277860</td>\n",
       "    </tr>\n",
       "    <tr>\n",
       "      <th>4015</th>\n",
       "      <td>4015</td>\n",
       "      <td>0.545648</td>\n",
       "    </tr>\n",
       "    <tr>\n",
       "      <th>4016</th>\n",
       "      <td>4016</td>\n",
       "      <td>0.668131</td>\n",
       "    </tr>\n",
       "    <tr>\n",
       "      <th>4017</th>\n",
       "      <td>4017</td>\n",
       "      <td>0.780212</td>\n",
       "    </tr>\n",
       "    <tr>\n",
       "      <th>4018</th>\n",
       "      <td>4018</td>\n",
       "      <td>1.387450</td>\n",
       "    </tr>\n",
       "  </tbody>\n",
       "</table>\n",
       "<p>4019 rows × 2 columns</p>\n",
       "</div>"
      ],
      "text/plain": [
       "         0            1\n",
       "0        0  1200.760000\n",
       "1        1  1600.490000\n",
       "2        2  1202.120000\n",
       "3        3  2202.260000\n",
       "4        4  2500.140000\n",
       "5        5  1299.500000\n",
       "6        6  1803.640000\n",
       "7        7  2100.080000\n",
       "8        8  1202.000000\n",
       "9        9  1097.400000\n",
       "10      10  1601.720000\n",
       "11      11  1503.810000\n",
       "12      12   704.137000\n",
       "13      13  1002.080000\n",
       "14      14   900.168000\n",
       "15      15   505.515000\n",
       "16      16   402.963000\n",
       "17      17   406.869000\n",
       "18      18   404.444000\n",
       "19      19   407.026000\n",
       "20      20   203.921000\n",
       "21      21   305.395000\n",
       "22      22   405.512000\n",
       "23      23   112.269000\n",
       "24      24   207.512000\n",
       "25      25   302.082000\n",
       "26      26     5.900620\n",
       "27      27   402.437000\n",
       "28      28   306.010000\n",
       "29      29   110.636000\n",
       "...    ...          ...\n",
       "3989  3989    -0.148877\n",
       "3990  3990     0.535856\n",
       "3991  3991     1.312390\n",
       "3992  3992     0.126319\n",
       "3993  3993     2.137120\n",
       "3994  3994     0.919365\n",
       "3995  3995     0.616217\n",
       "3996  3996     0.434923\n",
       "3997  3997    -0.190148\n",
       "3998  3998     2.617680\n",
       "3999  3999     1.859680\n",
       "4000  4000    -0.064929\n",
       "4001  4001     0.484415\n",
       "4002  4002    -0.061798\n",
       "4003  4003     0.170065\n",
       "4004  4004     1.347620\n",
       "4005  4005     2.659770\n",
       "4006  4006     0.606209\n",
       "4007  4007     0.347532\n",
       "4008  4008     0.544533\n",
       "4009  4009     0.783969\n",
       "4010  4010    -0.121138\n",
       "4011  4011     0.013912\n",
       "4012  4012     0.776570\n",
       "4013  4013     0.745445\n",
       "4014  4014     1.277860\n",
       "4015  4015     0.545648\n",
       "4016  4016     0.668131\n",
       "4017  4017     0.780212\n",
       "4018  4018     1.387450\n",
       "\n",
       "[4019 rows x 2 columns]"
      ]
     },
     "execution_count": 118,
     "metadata": {},
     "output_type": "execute_result"
    }
   ],
   "source": [
    "df = pd.read_csv('iter_elocmean.dat', sep=';\\t', header=None)\n",
    "df"
   ]
  },
  {
   "cell_type": "code",
   "execution_count": 119,
   "metadata": {
    "collapsed": false
   },
   "outputs": [
    {
     "data": {
      "image/png": "[encoded data removed]",
      "text/plain": [
       "<matplotlib.figure.Figure at 0x258a7d9e320>"
      ]
     },
     "metadata": {},
     "output_type": "display_data"
    }
   ],
   "source": [
    "plt.plot(df[0], df[1])\n",
    "plt.xlim(0,500)\n",
    "# plt.ylim(0,120)\n",
    "plt.ylabel('Elocmean')\n",
    "plt.xlabel('Iteration')\n",
    "plt.title('Particle in a Box (zoomed out)')\n",
    "# plt.axhline(y=0, c='k', linestyle='--')\n",
    "plt.show()"
   ]
  },
  {
   "cell_type": "code",
   "execution_count": 120,
   "metadata": {
    "collapsed": false
   },
   "outputs": [
    {
     "data": {
      "image/png": "[encoded data removed]",
      "text/plain": [
       "<matplotlib.figure.Figure at 0x258a7e647b8>"
      ]
     },
     "metadata": {},
     "output_type": "display_data"
    }
   ],
   "source": [
    "plt.plot(df[0], df[1])\n",
    "plt.xlim(50,300)\n",
    "plt.ylim(0,120)\n",
    "plt.ylabel('Elocmean')\n",
    "plt.xlabel('Iteration')\n",
    "plt.title('Particle in a Box (zoomed in)')\n",
    "# plt.axhline(y=0, c='k', linestyle='--')\n",
    "plt.show()"
   ]
  },
  {
   "cell_type": "markdown",
   "metadata": {},
   "source": [
    "Questions\n",
    "* Why does the energy not converge exactly, and instead spikes every now and then?\n",
    "* ~~Once elocmean = 0, all spikes seem to be of the same magnitude~~"
   ]
  },
  {
   "cell_type": "markdown",
   "metadata": {},
   "source": [
    "## Plotting Ising Results"
   ]
  },
  {
   "cell_type": "code",
   "execution_count": 121,
   "metadata": {
    "collapsed": false
   },
   "outputs": [
    {
     "name": "stderr",
     "output_type": "stream",
     "text": [
      "C:\\ProgramData\\Anaconda3\\lib\\site-packages\\ipykernel\\__main__.py:1: ParserWarning: Falling back to the 'python' engine because the 'c' engine does not support regex separators (separators > 1 char and different from '\\s+' are interpreted as regex); you can avoid this warning by specifying engine='python'.\n",
      "  if __name__ == '__main__':\n"
     ]
    },
    {
     "data": {
      "text/html": [
       "<div>\n",
       "<table border=\"1\" class=\"dataframe\">\n",
       "  <thead>\n",
       "    <tr style=\"text-align: right;\">\n",
       "      <th></th>\n",
       "      <th>0</th>\n",
       "      <th>1</th>\n",
       "    </tr>\n",
       "  </thead>\n",
       "  <tbody>\n",
       "    <tr>\n",
       "      <th>0</th>\n",
       "      <td>0</td>\n",
       "      <td>-20.1226</td>\n",
       "    </tr>\n",
       "    <tr>\n",
       "      <th>1</th>\n",
       "      <td>1</td>\n",
       "      <td>-19.5563</td>\n",
       "    </tr>\n",
       "    <tr>\n",
       "      <th>2</th>\n",
       "      <td>2</td>\n",
       "      <td>-19.8343</td>\n",
       "    </tr>\n",
       "    <tr>\n",
       "      <th>3</th>\n",
       "      <td>3</td>\n",
       "      <td>-20.1547</td>\n",
       "    </tr>\n",
       "    <tr>\n",
       "      <th>4</th>\n",
       "      <td>4</td>\n",
       "      <td>-20.5433</td>\n",
       "    </tr>\n",
       "    <tr>\n",
       "      <th>5</th>\n",
       "      <td>5</td>\n",
       "      <td>-20.7770</td>\n",
       "    </tr>\n",
       "    <tr>\n",
       "      <th>6</th>\n",
       "      <td>6</td>\n",
       "      <td>-20.7564</td>\n",
       "    </tr>\n",
       "    <tr>\n",
       "      <th>7</th>\n",
       "      <td>7</td>\n",
       "      <td>-21.8078</td>\n",
       "    </tr>\n",
       "    <tr>\n",
       "      <th>8</th>\n",
       "      <td>8</td>\n",
       "      <td>-21.7059</td>\n",
       "    </tr>\n",
       "    <tr>\n",
       "      <th>9</th>\n",
       "      <td>9</td>\n",
       "      <td>-22.2224</td>\n",
       "    </tr>\n",
       "    <tr>\n",
       "      <th>10</th>\n",
       "      <td>10</td>\n",
       "      <td>-22.9709</td>\n",
       "    </tr>\n",
       "    <tr>\n",
       "      <th>11</th>\n",
       "      <td>11</td>\n",
       "      <td>-23.2289</td>\n",
       "    </tr>\n",
       "    <tr>\n",
       "      <th>12</th>\n",
       "      <td>12</td>\n",
       "      <td>-23.0021</td>\n",
       "    </tr>\n",
       "    <tr>\n",
       "      <th>13</th>\n",
       "      <td>13</td>\n",
       "      <td>-23.5583</td>\n",
       "    </tr>\n",
       "    <tr>\n",
       "      <th>14</th>\n",
       "      <td>14</td>\n",
       "      <td>-23.1086</td>\n",
       "    </tr>\n",
       "    <tr>\n",
       "      <th>15</th>\n",
       "      <td>15</td>\n",
       "      <td>-23.2545</td>\n",
       "    </tr>\n",
       "    <tr>\n",
       "      <th>16</th>\n",
       "      <td>16</td>\n",
       "      <td>-23.3205</td>\n",
       "    </tr>\n",
       "    <tr>\n",
       "      <th>17</th>\n",
       "      <td>17</td>\n",
       "      <td>-23.2607</td>\n",
       "    </tr>\n",
       "    <tr>\n",
       "      <th>18</th>\n",
       "      <td>18</td>\n",
       "      <td>-23.0798</td>\n",
       "    </tr>\n",
       "    <tr>\n",
       "      <th>19</th>\n",
       "      <td>19</td>\n",
       "      <td>-23.3343</td>\n",
       "    </tr>\n",
       "    <tr>\n",
       "      <th>20</th>\n",
       "      <td>20</td>\n",
       "      <td>-23.2547</td>\n",
       "    </tr>\n",
       "    <tr>\n",
       "      <th>21</th>\n",
       "      <td>21</td>\n",
       "      <td>-23.0369</td>\n",
       "    </tr>\n",
       "    <tr>\n",
       "      <th>22</th>\n",
       "      <td>22</td>\n",
       "      <td>-23.3430</td>\n",
       "    </tr>\n",
       "    <tr>\n",
       "      <th>23</th>\n",
       "      <td>23</td>\n",
       "      <td>-23.1632</td>\n",
       "    </tr>\n",
       "    <tr>\n",
       "      <th>24</th>\n",
       "      <td>24</td>\n",
       "      <td>-23.1404</td>\n",
       "    </tr>\n",
       "    <tr>\n",
       "      <th>25</th>\n",
       "      <td>25</td>\n",
       "      <td>-23.0750</td>\n",
       "    </tr>\n",
       "    <tr>\n",
       "      <th>26</th>\n",
       "      <td>26</td>\n",
       "      <td>-23.2540</td>\n",
       "    </tr>\n",
       "    <tr>\n",
       "      <th>27</th>\n",
       "      <td>27</td>\n",
       "      <td>-23.3546</td>\n",
       "    </tr>\n",
       "    <tr>\n",
       "      <th>28</th>\n",
       "      <td>28</td>\n",
       "      <td>-23.1473</td>\n",
       "    </tr>\n",
       "    <tr>\n",
       "      <th>29</th>\n",
       "      <td>29</td>\n",
       "      <td>-23.5486</td>\n",
       "    </tr>\n",
       "    <tr>\n",
       "      <th>...</th>\n",
       "      <td>...</td>\n",
       "      <td>...</td>\n",
       "    </tr>\n",
       "    <tr>\n",
       "      <th>54356</th>\n",
       "      <td>54356</td>\n",
       "      <td>-25.5262</td>\n",
       "    </tr>\n",
       "    <tr>\n",
       "      <th>54357</th>\n",
       "      <td>54357</td>\n",
       "      <td>-25.4798</td>\n",
       "    </tr>\n",
       "    <tr>\n",
       "      <th>54358</th>\n",
       "      <td>54358</td>\n",
       "      <td>-25.4987</td>\n",
       "    </tr>\n",
       "    <tr>\n",
       "      <th>54359</th>\n",
       "      <td>54359</td>\n",
       "      <td>-25.4818</td>\n",
       "    </tr>\n",
       "    <tr>\n",
       "      <th>54360</th>\n",
       "      <td>54360</td>\n",
       "      <td>-25.4721</td>\n",
       "    </tr>\n",
       "    <tr>\n",
       "      <th>54361</th>\n",
       "      <td>54361</td>\n",
       "      <td>-25.4920</td>\n",
       "    </tr>\n",
       "    <tr>\n",
       "      <th>54362</th>\n",
       "      <td>54362</td>\n",
       "      <td>-25.4138</td>\n",
       "    </tr>\n",
       "    <tr>\n",
       "      <th>54363</th>\n",
       "      <td>54363</td>\n",
       "      <td>-25.4964</td>\n",
       "    </tr>\n",
       "    <tr>\n",
       "      <th>54364</th>\n",
       "      <td>54364</td>\n",
       "      <td>-25.4927</td>\n",
       "    </tr>\n",
       "    <tr>\n",
       "      <th>54365</th>\n",
       "      <td>54365</td>\n",
       "      <td>-25.4435</td>\n",
       "    </tr>\n",
       "    <tr>\n",
       "      <th>54366</th>\n",
       "      <td>54366</td>\n",
       "      <td>-25.4870</td>\n",
       "    </tr>\n",
       "    <tr>\n",
       "      <th>54367</th>\n",
       "      <td>54367</td>\n",
       "      <td>-25.4654</td>\n",
       "    </tr>\n",
       "    <tr>\n",
       "      <th>54368</th>\n",
       "      <td>54368</td>\n",
       "      <td>-25.4853</td>\n",
       "    </tr>\n",
       "    <tr>\n",
       "      <th>54369</th>\n",
       "      <td>54369</td>\n",
       "      <td>-25.4626</td>\n",
       "    </tr>\n",
       "    <tr>\n",
       "      <th>54370</th>\n",
       "      <td>54370</td>\n",
       "      <td>-25.5102</td>\n",
       "    </tr>\n",
       "    <tr>\n",
       "      <th>54371</th>\n",
       "      <td>54371</td>\n",
       "      <td>-25.5142</td>\n",
       "    </tr>\n",
       "    <tr>\n",
       "      <th>54372</th>\n",
       "      <td>54372</td>\n",
       "      <td>-25.4682</td>\n",
       "    </tr>\n",
       "    <tr>\n",
       "      <th>54373</th>\n",
       "      <td>54373</td>\n",
       "      <td>-25.4563</td>\n",
       "    </tr>\n",
       "    <tr>\n",
       "      <th>54374</th>\n",
       "      <td>54374</td>\n",
       "      <td>-25.4903</td>\n",
       "    </tr>\n",
       "    <tr>\n",
       "      <th>54375</th>\n",
       "      <td>54375</td>\n",
       "      <td>-25.4407</td>\n",
       "    </tr>\n",
       "    <tr>\n",
       "      <th>54376</th>\n",
       "      <td>54376</td>\n",
       "      <td>-25.5018</td>\n",
       "    </tr>\n",
       "    <tr>\n",
       "      <th>54377</th>\n",
       "      <td>54377</td>\n",
       "      <td>-25.4645</td>\n",
       "    </tr>\n",
       "    <tr>\n",
       "      <th>54378</th>\n",
       "      <td>54378</td>\n",
       "      <td>-25.5265</td>\n",
       "    </tr>\n",
       "    <tr>\n",
       "      <th>54379</th>\n",
       "      <td>54379</td>\n",
       "      <td>-25.4966</td>\n",
       "    </tr>\n",
       "    <tr>\n",
       "      <th>54380</th>\n",
       "      <td>54380</td>\n",
       "      <td>-25.4852</td>\n",
       "    </tr>\n",
       "    <tr>\n",
       "      <th>54381</th>\n",
       "      <td>54381</td>\n",
       "      <td>-25.4902</td>\n",
       "    </tr>\n",
       "    <tr>\n",
       "      <th>54382</th>\n",
       "      <td>54382</td>\n",
       "      <td>-25.4633</td>\n",
       "    </tr>\n",
       "    <tr>\n",
       "      <th>54383</th>\n",
       "      <td>54383</td>\n",
       "      <td>-25.5067</td>\n",
       "    </tr>\n",
       "    <tr>\n",
       "      <th>54384</th>\n",
       "      <td>54384</td>\n",
       "      <td>-25.4793</td>\n",
       "    </tr>\n",
       "    <tr>\n",
       "      <th>54385</th>\n",
       "      <td>54385</td>\n",
       "      <td>-25.4884</td>\n",
       "    </tr>\n",
       "  </tbody>\n",
       "</table>\n",
       "<p>54386 rows × 2 columns</p>\n",
       "</div>"
      ],
      "text/plain": [
       "           0        1\n",
       "0          0 -20.1226\n",
       "1          1 -19.5563\n",
       "2          2 -19.8343\n",
       "3          3 -20.1547\n",
       "4          4 -20.5433\n",
       "5          5 -20.7770\n",
       "6          6 -20.7564\n",
       "7          7 -21.8078\n",
       "8          8 -21.7059\n",
       "9          9 -22.2224\n",
       "10        10 -22.9709\n",
       "11        11 -23.2289\n",
       "12        12 -23.0021\n",
       "13        13 -23.5583\n",
       "14        14 -23.1086\n",
       "15        15 -23.2545\n",
       "16        16 -23.3205\n",
       "17        17 -23.2607\n",
       "18        18 -23.0798\n",
       "19        19 -23.3343\n",
       "20        20 -23.2547\n",
       "21        21 -23.0369\n",
       "22        22 -23.3430\n",
       "23        23 -23.1632\n",
       "24        24 -23.1404\n",
       "25        25 -23.0750\n",
       "26        26 -23.2540\n",
       "27        27 -23.3546\n",
       "28        28 -23.1473\n",
       "29        29 -23.5486\n",
       "...      ...      ...\n",
       "54356  54356 -25.5262\n",
       "54357  54357 -25.4798\n",
       "54358  54358 -25.4987\n",
       "54359  54359 -25.4818\n",
       "54360  54360 -25.4721\n",
       "54361  54361 -25.4920\n",
       "54362  54362 -25.4138\n",
       "54363  54363 -25.4964\n",
       "54364  54364 -25.4927\n",
       "54365  54365 -25.4435\n",
       "54366  54366 -25.4870\n",
       "54367  54367 -25.4654\n",
       "54368  54368 -25.4853\n",
       "54369  54369 -25.4626\n",
       "54370  54370 -25.5102\n",
       "54371  54371 -25.5142\n",
       "54372  54372 -25.4682\n",
       "54373  54373 -25.4563\n",
       "54374  54374 -25.4903\n",
       "54375  54375 -25.4407\n",
       "54376  54376 -25.5018\n",
       "54377  54377 -25.4645\n",
       "54378  54378 -25.5265\n",
       "54379  54379 -25.4966\n",
       "54380  54380 -25.4852\n",
       "54381  54381 -25.4902\n",
       "54382  54382 -25.4633\n",
       "54383  54383 -25.5067\n",
       "54384  54384 -25.4793\n",
       "54385  54385 -25.4884\n",
       "\n",
       "[54386 rows x 2 columns]"
      ]
     },
     "execution_count": 121,
     "metadata": {},
     "output_type": "execute_result"
    }
   ],
   "source": [
    "df = pd.read_csv('../Ex02_semi_pure/iter_elocmean.dat', sep=';\\t', header=None)\n",
    "df"
   ]
  },
  {
   "cell_type": "code",
   "execution_count": 122,
   "metadata": {
    "collapsed": false
   },
   "outputs": [
    {
     "data": {
      "image/png": "[encoded data removed]",
      "text/plain": [
       "<matplotlib.figure.Figure at 0x258a7bf0198>"
      ]
     },
     "metadata": {},
     "output_type": "display_data"
    }
   ],
   "source": [
    "plt.plot(df[0], df[1])\n",
    "plt.title('Original Ising Model')\n",
    "plt.ylabel('Elocmean')\n",
    "plt.xlabel('Iteration')\n",
    "plt.show()"
   ]
  },
  {
   "cell_type": "code",
   "execution_count": null,
   "metadata": {
    "collapsed": true
   },
   "outputs": [],
   "source": []
  }
 ],
 "metadata": {
  "kernelspec": {
   "display_name": "Python 3",
   "language": "python",
   "name": "python3"
  },
  "language_info": {
   "codemirror_mode": {
    "name": "ipython",
    "version": 3
   },
   "file_extension": ".py",
   "mimetype": "text/x-python",
   "name": "python",
   "nbconvert_exporter": "python",
   "pygments_lexer": "ipython3",
   "version": "3.6.0"
  }
 },
 "nbformat": 4,
 "nbformat_minor": 2
}
